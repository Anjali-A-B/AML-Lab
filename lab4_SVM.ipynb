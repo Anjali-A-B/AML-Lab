{
 "cells": [
  {
   "cell_type": "code",
   "execution_count": 1,
   "id": "0ca29f1c-5dc3-4138-a688-f4bcc840a339",
   "metadata": {},
   "outputs": [
    {
     "name": "stdout",
     "output_type": "stream",
     "text": [
      "Accuracy: 0.94\n"
     ]
    }
   ],
   "source": [
    "import idx2numpy\n",
    "from sklearn.preprocessing import StandardScaler\n",
    "from sklearn.decomposition import PCA\n",
    "from sklearn.svm import SVC\n",
    "from sklearn.metrics import accuracy_score\n",
    "\n",
    "def load_mnist_images(filename):\n",
    "    return idx2numpy.convert_from_file(filename)\n",
    "\n",
    "def load_mnist_labels(filename):\n",
    "    return idx2numpy.convert_from_file(filename)\n",
    "\n",
    "# Replace with the actual path to the MNIST files\n",
    "\n",
    "X_train = load_mnist_images('/home/anjali/Desktop/AML/train-images-idx3-ubyte/train-images-idx3-ubyte')\n",
    "y_train = load_mnist_labels('/home/anjali/Desktop/AML/train-labels-idx1-ubyte/train-labels-idx1-ubyte')\n",
    "X_test = load_mnist_images('/home/anjali/Desktop/AML/t10k-images-idx3-ubyte/t10k-images-idx3-ubyte')\n",
    "y_test = load_mnist_labels('/home/anjali/Desktop/AML/t10k-labels-idx1-ubyte/t10k-labels-idx1-ubyte')\n",
    "\n",
    "\n",
    "# Flatten the images (28x28) into vectors of size 784\n",
    "X_train = X_train.reshape(X_train.shape[0], -1)\n",
    "X_test = X_test.reshape(X_test.shape[0], -1)\n",
    "\n",
    "# Standardize the features\n",
    "scaler = StandardScaler()\n",
    "X_train = scaler.fit_transform(X_train)\n",
    "X_test = scaler.transform(X_test)\n",
    "\n",
    "# Apply PCA to reduce dimensionality\n",
    "pca = PCA(n_components=0.95)  # Retain 95% of variance\n",
    "X_train_pca = pca.fit_transform(X_train)\n",
    "X_test_pca = pca.transform(X_test)\n",
    "\n",
    "# Train an SVM classifier\n",
    "svm = SVC(kernel='linear', random_state=42)\n",
    "svm.fit(X_train_pca, y_train)\n",
    "\n",
    "# Make predictions on the test set\n",
    "y_pred = svm.predict(X_test_pca)\n",
    "\n",
    "# Evaluate the classifier\n",
    "accuracy = accuracy_score(y_test, y_pred)\n",
    "print(f\"Accuracy: {accuracy:.2f}\")\n"
   ]
  },
  {
   "cell_type": "code",
   "execution_count": null,
   "id": "d6551039-1470-417a-9237-8b30ddfad3d9",
   "metadata": {},
   "outputs": [],
   "source": []
  }
 ],
 "metadata": {
  "kernelspec": {
   "display_name": "Python 3 (ipykernel)",
   "language": "python",
   "name": "python3"
  },
  "language_info": {
   "codemirror_mode": {
    "name": "ipython",
    "version": 3
   },
   "file_extension": ".py",
   "mimetype": "text/x-python",
   "name": "python",
   "nbconvert_exporter": "python",
   "pygments_lexer": "ipython3",
   "version": "3.10.12"
  }
 },
 "nbformat": 4,
 "nbformat_minor": 5
}
